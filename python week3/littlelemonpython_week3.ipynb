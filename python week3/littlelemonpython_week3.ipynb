{
 "cells": [
  {
   "cell_type": "code",
   "execution_count": 25,
   "id": "c4e3e8ea",
   "metadata": {},
   "outputs": [
    {
     "name": "stdout",
     "output_type": "stream",
     "text": [
      "Defaulting to user installation because normal site-packages is not writeable\n",
      "Requirement already satisfied: mysql-connector-python in c:\\users\\khaled\\appdata\\roaming\\python\\python39\\site-packages (8.0.27)\n",
      "Requirement already satisfied: protobuf>=3.0.0 in c:\\users\\khaled\\appdata\\roaming\\python\\python39\\site-packages (from mysql-connector-python) (3.19.3)\n",
      "Note: you may need to restart the kernel to use updated packages.\n"
     ]
    },
    {
     "name": "stderr",
     "output_type": "stream",
     "text": [
      "\n",
      "[notice] A new release of pip available: 22.3.1 -> 23.0.1\n",
      "[notice] To update, run: python.exe -m pip install --upgrade pip\n"
     ]
    }
   ],
   "source": [
    "pip install mysql-connector-python"
   ]
  },
  {
   "cell_type": "code",
   "execution_count": 26,
   "id": "31ac6c3d",
   "metadata": {},
   "outputs": [],
   "source": [
    "import mysql.connector as connector"
   ]
  },
  {
   "cell_type": "code",
   "execution_count": 27,
   "id": "23a94f57",
   "metadata": {},
   "outputs": [],
   "source": [
    "connection = connector.connect(user = \"root\", password = \"Rawankns1@\")"
   ]
  },
  {
   "cell_type": "code",
   "execution_count": null,
   "id": "7e4f3446",
   "metadata": {},
   "outputs": [],
   "source": []
  },
  {
   "cell_type": "code",
   "execution_count": 28,
   "id": "f8516057",
   "metadata": {},
   "outputs": [],
   "source": [
    "connection = connector.connect(user = \"root\", password = \"Rawankns1@\", db = \"littlelemondb\") "
   ]
  },
  {
   "cell_type": "code",
   "execution_count": 29,
   "id": "f6ddc0d5",
   "metadata": {},
   "outputs": [],
   "source": [
    "cursor=connection.cursor()"
   ]
  },
  {
   "cell_type": "code",
   "execution_count": 30,
   "id": "bd852741",
   "metadata": {
    "scrolled": true
   },
   "outputs": [],
   "source": [
    "show_tables_query = \"SHOW tables\" \n",
    "results=cursor.execute(show_tables_query)"
   ]
  },
  {
   "cell_type": "code",
   "execution_count": 31,
   "id": "98be5c6f",
   "metadata": {},
   "outputs": [],
   "source": [
    "results"
   ]
  },
  {
   "cell_type": "code",
   "execution_count": 32,
   "id": "8d4fa5b0",
   "metadata": {},
   "outputs": [
    {
     "name": "stdout",
     "output_type": "stream",
     "text": [
      "bookings\n",
      "customers\n",
      "delivery\n",
      "employees\n",
      "menuitems\n",
      "menus\n",
      "orders\n",
      "ordersview\n"
     ]
    }
   ],
   "source": [
    "tables = cursor.fetchall()\n",
    "for table in tables:\n",
    "    print(table[0])"
   ]
  },
  {
   "cell_type": "code",
   "execution_count": 33,
   "id": "15312fc8",
   "metadata": {},
   "outputs": [],
   "source": [
    "customer_join_query = '''\n",
    "        SELECT\n",
    "           CONCAT(c.CustomerFirstName, c.CustomerLastName) AS FullName,\n",
    "            c.Customer_Email AS Email,\n",
    "            c.Customer_Contact_Number AS PhoneNumber,\n",
    "            c.Customer_Address AS Address,\n",
    "            c.Customer_Country AS Country,\n",
    "            c.Customer_City AS City,\n",
    "            o.BillAmount AS Cost\n",
    "            FROM \n",
    "            ((littlelemondb.Orders o \n",
    "            JOIN littlelemondb.Bookings b)\n",
    "            JOIN  littlelemondb.Customers c) \n",
    "            WHERE(\n",
    "            (b.BookingID = o.BookingID)\n",
    "            AND (c.CustomerID = b.CustomerID)\n",
    "            AND (o.BillAmount > 60))\n",
    "            ORDER BY o.BillAmount DESC;\n",
    "'''"
   ]
  },
  {
   "cell_type": "code",
   "execution_count": 34,
   "id": "f2ae490a",
   "metadata": {},
   "outputs": [],
   "source": [
    "cursor.execute(customer_join_query)\n"
   ]
  },
  {
   "cell_type": "code",
   "execution_count": 35,
   "id": "f3ed24b6",
   "metadata": {},
   "outputs": [],
   "source": [
    "customers = cursor.fetchall()\n"
   ]
  },
  {
   "cell_type": "code",
   "execution_count": 36,
   "id": "cfd25b01",
   "metadata": {},
   "outputs": [
    {
     "name": "stdout",
     "output_type": "stream",
     "text": [
      "There are 3 customers spent more than $60...\n",
      "Top 10 Customers...\n",
      "-----------------------------------\n",
      "Full Name: \t AnnaIversen\n",
      "Email: \t\t anna@anna.com\n",
      "Phone Number: \t 1234567\n",
      "Address: \t 2nd street\n",
      "Country: \t USA\n",
      "City: \t\t Ohaio\n",
      "Has spent: \t 172.0\n",
      "-----------------------------------\n",
      "Full Name: \t MarcosRomero\n",
      "Email: \t\t Marcos@marc.com\n",
      "Phone Number: \t 4567890\n",
      "Address: \t 9th street\n",
      "Country: \t USA\n",
      "City: \t\t Husten\n",
      "Has spent: \t 160.0\n",
      "-----------------------------------\n",
      "Full Name: \t JoakimIversen\n",
      "Email: \t\t jo@anna.com\n",
      "Phone Number: \t 2345678\n",
      "Address: \t 1st street\n",
      "Country: \t USA\n",
      "City: \t\t Ohaio\n",
      "Has spent: \t 74.0\n"
     ]
    }
   ],
   "source": [
    "print(f'There are {len(customers)} customers spent more than $60...')\n",
    "print('Top 10 Customers...')\n",
    "\n",
    "for customer in customers[:10]:\n",
    "    print('-' * 35)\n",
    "    print(f'Full Name: \\t {customer[0]}')\n",
    "    print(f'Email: \\t\\t {customer[1]}')\n",
    "    print(f'Phone Number: \\t {customer[2]}')\n",
    "    print(f'Address: \\t {customer[3]}')\n",
    "    print(f'Country: \\t {customer[4]}')\n",
    "    print(f'City: \\t\\t {customer[5]}')\n",
    "    print(f'Has spent: \\t {float(customer[6])}')"
   ]
  },
  {
   "cell_type": "code",
   "execution_count": null,
   "id": "73779b30",
   "metadata": {},
   "outputs": [],
   "source": []
  }
 ],
 "metadata": {
  "kernelspec": {
   "display_name": "Python 3",
   "language": "python",
   "name": "python3"
  },
  "language_info": {
   "codemirror_mode": {
    "name": "ipython",
    "version": 3
   },
   "file_extension": ".py",
   "mimetype": "text/x-python",
   "name": "python",
   "nbconvert_exporter": "python",
   "pygments_lexer": "ipython3",
   "version": "3.9.9"
  },
  "vscode": {
   "interpreter": {
    "hash": "11938c6bc6919ae2720b4d5011047913343b08a43b18698fd82dedb0d4417594"
   }
  }
 },
 "nbformat": 4,
 "nbformat_minor": 5
}
